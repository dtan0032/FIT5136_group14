{
 "cells": [
  {
   "cell_type": "code",
   "execution_count": null,
   "metadata": {},
   "outputs": [],
   "source": [
    "from datetime import date\n",
    "# from class1.py import functions\n",
    "# from class2.py import functions\n",
    "# from class3.py import functions\n",
    "\n",
    "class MonashMealKit:\n",
    "    def __init__(self):\n",
    "        # initiate current user/ log-in \n",
    "        # TODO: Nathan's implementation\n",
    "        # self.current_user = \n",
    "        self.current_date = date.today()\n",
    "        self.current_user = [] # might be wrong data type\n",
    "        self.list_of_users = []\n",
    "        self.list_of_meals = []\n",
    "        self.list_upcoming_orders = []\n",
    "        self.list_past_orders = []\n",
    "    \n",
    "    def get_users(self):\n",
    "        # Load Users from users.csv\n",
    "        # Loop through users and instantiate User class for each user\n",
    "            #append each User class into self.list_of_users\n",
    "        return None\n",
    "    \n",
    "    def get_meals(self):\n",
    "        # Load Meal from meals.csv\n",
    "        # Loop through users and instantiate Meal class for each user\n",
    "            # !!! assume meal database will always we updated each week\n",
    "            # append each meal object into self.list_of_meals\n",
    "        return None\n",
    "    \n",
    "    def add_upcoming_order(self, orderObject):\n",
    "        if orderObject.date >= self.current_date:\n",
    "           self.list_upcoming_orders.append(orderObject)\n",
    "        return\n",
    "    \n",
    "    def add_past_order(self, orderObject):\n",
    "        if orderObject.date < self.current_date:\n",
    "           self.list_past_orders.append(orderObject)\n",
    "        return\n",
    "\n"
   ]
  }
 ],
 "metadata": {
  "language_info": {
   "name": "python"
  },
  "orig_nbformat": 4
 },
 "nbformat": 4,
 "nbformat_minor": 2
}
