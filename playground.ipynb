{
 "cells": [
  {
   "cell_type": "code",
   "execution_count": 1,
   "metadata": {},
   "outputs": [],
   "source": [
    "from datetime import date\n",
    "import csv\n",
    "# from class1.py import functions\n",
    "# from class2.py import functions\n",
    "# from class3.py import functions"
   ]
  },
  {
   "cell_type": "code",
   "execution_count": null,
   "metadata": {},
   "outputs": [],
   "source": [
    "class MonashMealKit:\n",
    "    def __init__(self,users_file = \"\\\\users.csv\",meals_file = \"\\\\meals.csv\",orders_file = \"orders.csv\"):\n",
    "        # initiate current user/ log-in \n",
    "        # TODO: import and insert Nathan's implementation\n",
    "        # self.current_user = \n",
    "        self.current_date = date.today()\n",
    "        self.current_user = [] # might be wrong data type\n",
    "        self.list_of_users = []\n",
    "        self.list_of_meals = []\n",
    "        self.upcoming_orders = []\n",
    "        self.past_orders = []\n",
    "        self.users_file = users_file\n",
    "        self.meals_file = meals_file\n",
    "        self.orders_file = orders_file\n",
    "\n",
    "    \n",
    "    def get_users(self):\n",
    "        \"\"\"\n",
    "        This method is used to retrieve users and relevant details (...) from users database (meals.csv)\n",
    "        \"\"\"\n",
    "        # Load Users from users.csv\n",
    "        # Loop through users and instantiate User class for each user\n",
    "            #append each User class into self.list_of_users\n",
    "        with open(self.users_file) as fp:\n",
    "            reader = csv.reader(fp, delimiter=\",\", quotechar='\"')\n",
    "            # next(reader, None)  # skip the headers\n",
    "            user_data = [row for row in reader]\n",
    "        print(user_data)\n",
    "        return None\n",
    "    \n",
    "    def get_meals(self):\n",
    "        \"\"\"\n",
    "        This method is used to retrieve meals and relevant details (...) from meals database (meals.csv)\n",
    "        \"\"\"\n",
    "        # Load Meal from meals.csv\n",
    "        # Loop through meals and instantiate Meal class for each meal\n",
    "            # !!! assume meal database will always we updated each week\n",
    "            # append each meal object into self.list_of_meals\n",
    "        \n",
    "        return None\n",
    "    \n",
    "    def get_orders(self):\n",
    "        \"\"\"\n",
    "        This method is used to retrieve orders and relevant details (...) from meals database (orders.csv)\n",
    "        \"\"\"\n",
    "        # Load orders from orders.csv\n",
    "        # Loop through orders and instantiate Order class for each Order\n",
    "            # if order has been delivered\n",
    "                # append the order object into self.past_orders\n",
    "            # else\n",
    "                # append the order object into self.upcoming\n",
    "        return None\n",
    "    \n",
    "    def add_upcoming_order(self, orderObject):\n",
    "        \"\"\"\n",
    "        This method is used to update upcoming_orders_list which should be called each time a new order is added from Feature 2 (Vansh)\n",
    "        \"\"\"\n",
    "        if orderObject.date >= self.current_date:\n",
    "           self.list_upcoming_orders.append(orderObject)\n",
    "        return\n",
    "    \n",
    "    def add_past_order(self, orderObject):\n",
    "        \"\"\"\n",
    "        This method is used to update past_orders_list which should be called whenever a meal has been delivered. Assume that database will be auto updated?\n",
    "        \"\"\"\n",
    "        if orderObject.date < self.current_date:\n",
    "           self.list_past_orders.append(orderObject)\n",
    "        return\n",
    "\n",
    "    def calculate_week_number(self):\n",
    "        \"\"\"\n",
    "        This method is used to calculate week number with respect to the current week. Current week is week 0, weeks before go towards -1,-2, while weeks after this week go 1,2\n",
    "        \"\"\"\n",
    "        return \n",
    "\n"
   ]
  },
  {
   "cell_type": "code",
   "execution_count": 1,
   "metadata": {},
   "outputs": [],
   "source": [
    "class Meal:\n",
    "    def __init__(self,mealID,title,allergen,ingredientsP,ingredientsN,steps):\n",
    "        # initialise Meal object\n",
    "        self.mealID = mealID\n",
    "        self.title = title\n",
    "        self.allergen = allergen\n",
    "        self.ingredientsP = ingredientsP\n",
    "        self.ingredientsN = ingredientsN\n",
    "        self.steps = steps"
   ]
  },
  {
   "cell_type": "code",
   "execution_count": 3,
   "metadata": {},
   "outputs": [],
   "source": [
    "class Order:\n",
    "    def __init__(self,orderID, mealID,servingSize,protein,dateDelivered,cost):\n",
    "        assert servingSize == 2 or servingSize == 4\n",
    "        self.orderID = orderID\n",
    "        self.mealID = mealID\n",
    "        self.protein = protein\n",
    "        if dateDelivered == \"\":\n",
    "            self.dateDelivered = None\n",
    "        else:\n",
    "            self.dateDelivered = dateDelivered\n",
    "        self.cost = cost"
   ]
  },
  {
   "cell_type": "code",
   "execution_count": null,
   "metadata": {},
   "outputs": [],
   "source": []
  },
  {
   "cell_type": "code",
   "execution_count": null,
   "metadata": {},
   "outputs": [],
   "source": []
  }
 ],
 "metadata": {
  "interpreter": {
   "hash": "bda49558a1d677dcfb1c56a3f8151a85c0a835beaf40a3cdd645f97c5cdef1d8"
  },
  "kernelspec": {
   "display_name": "Python 3.9.6 64-bit",
   "language": "python",
   "name": "python3"
  },
  "language_info": {
   "codemirror_mode": {
    "name": "ipython",
    "version": 3
   },
   "file_extension": ".py",
   "mimetype": "text/x-python",
   "name": "python",
   "nbconvert_exporter": "python",
   "pygments_lexer": "ipython3",
   "version": "3.9.6"
  },
  "orig_nbformat": 4
 },
 "nbformat": 4,
 "nbformat_minor": 2
}
